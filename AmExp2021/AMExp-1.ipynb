{
 "cells": [
  {
   "cell_type": "markdown",
   "id": "antique-laugh",
   "metadata": {},
   "source": [
    "---\n",
    "### Reading in data and preparing it for modelling"
   ]
  },
  {
   "cell_type": "code",
   "execution_count": 2,
   "id": "ordinary-register",
   "metadata": {},
   "outputs": [],
   "source": [
    "import numpy as np\n",
    "import pandas as pd"
   ]
  },
  {
   "cell_type": "code",
   "execution_count": 3,
   "id": "effective-harbor",
   "metadata": {},
   "outputs": [],
   "source": [
    "dft = pd.read_csv(\"train.csv\")\n",
    "tdf = pd.read_csv(\"test.csv\")"
   ]
  },
  {
   "cell_type": "code",
   "execution_count": 4,
   "id": "signed-prerequisite",
   "metadata": {},
   "outputs": [
    {
     "name": "stdout",
     "output_type": "stream",
     "text": [
      "<class 'pandas.core.frame.DataFrame'>\n",
      "RangeIndex: 37748 entries, 0 to 37747\n",
      "Data columns (total 9 columns):\n",
      " #   Column              Non-Null Count  Dtype \n",
      "---  ------              --------------  ----- \n",
      " 0   Customer_ID         37748 non-null  object\n",
      " 1   Gender              37748 non-null  object\n",
      " 2   Age                 37748 non-null  int64 \n",
      " 3   Vintage             37748 non-null  int64 \n",
      " 4   Is_Active           37748 non-null  int64 \n",
      " 5   City_Category       37748 non-null  object\n",
      " 6   Customer_Category   37748 non-null  object\n",
      " 7   Product_Holding_B1  37748 non-null  object\n",
      " 8   Product_Holding_B2  37748 non-null  object\n",
      "dtypes: int64(3), object(6)\n",
      "memory usage: 2.6+ MB\n",
      "None\n",
      "--------\n",
      "<class 'pandas.core.frame.DataFrame'>\n",
      "RangeIndex: 20327 entries, 0 to 20326\n",
      "Data columns (total 8 columns):\n",
      " #   Column              Non-Null Count  Dtype \n",
      "---  ------              --------------  ----- \n",
      " 0   Customer_ID         20327 non-null  object\n",
      " 1   Gender              20327 non-null  object\n",
      " 2   Age                 20327 non-null  int64 \n",
      " 3   Vintage             20327 non-null  int64 \n",
      " 4   Is_Active           20327 non-null  int64 \n",
      " 5   City_Category       20327 non-null  object\n",
      " 6   Customer_Category   20327 non-null  object\n",
      " 7   Product_Holding_B1  20327 non-null  object\n",
      "dtypes: int64(3), object(5)\n",
      "memory usage: 1.2+ MB\n",
      "None\n"
     ]
    }
   ],
   "source": [
    "print(dft.info())\n",
    "print(\"--------\")\n",
    "print(tdf.info())"
   ]
  },
  {
   "cell_type": "code",
   "execution_count": 5,
   "id": "enabling-shirt",
   "metadata": {},
   "outputs": [
    {
     "name": "stdout",
     "output_type": "stream",
     "text": [
      "Customer_ID: 0\n",
      "Gender: 0\n",
      "Age: 0\n",
      "Vintage: 0\n",
      "Is_Active: 0\n",
      "City_Category: 0\n",
      "Customer_Category: 0\n",
      "Product_Holding_B1: 0\n",
      "Product_Holding_B2: 0\n",
      "---------\n",
      "Customer_ID: 0\n",
      "Gender: 0\n",
      "Age: 0\n",
      "Vintage: 0\n",
      "Is_Active: 0\n",
      "City_Category: 0\n",
      "Customer_Category: 0\n",
      "Product_Holding_B1: 0\n"
     ]
    }
   ],
   "source": [
    "def check_null(df):\n",
    "    for col in df.columns:\n",
    "        print(f\"{col}: {sum(dft[col].isna())}\")\n",
    "check_null(dft)\n",
    "print(\"---------\")\n",
    "check_null(tdf)"
   ]
  },
  {
   "cell_type": "code",
   "execution_count": 6,
   "id": "continued-province",
   "metadata": {},
   "outputs": [
    {
     "name": "stdout",
     "output_type": "stream",
     "text": [
      "Customer_ID           37748\n",
      "Gender                    2\n",
      "Age                      36\n",
      "Vintage                  64\n",
      "Is_Active                 2\n",
      "City_Category             2\n",
      "Customer_Category         3\n",
      "Product_Holding_B1      617\n",
      "Product_Holding_B2      495\n",
      "dtype: int64\n",
      "-------\n",
      "Customer_ID           20327\n",
      "Gender                    2\n",
      "Age                      36\n",
      "Vintage                  63\n",
      "Is_Active                 2\n",
      "City_Category             2\n",
      "Customer_Category         3\n",
      "Product_Holding_B1      510\n",
      "dtype: int64\n"
     ]
    }
   ],
   "source": [
    "print(dft.nunique())\n",
    "print(\"-------\")\n",
    "print(tdf.nunique())"
   ]
  },
  {
   "cell_type": "code",
   "execution_count": 8,
   "id": "future-writing",
   "metadata": {},
   "outputs": [],
   "source": [
    "cat_cols = ['Gender', 'City_Category', 'Customer_Category']\n",
    "\n",
    "dfu = dft.drop(columns=['Product_Holding_B1', 'Product_Holding_B2', 'Customer_ID'])\n",
    "dfu = pd.get_dummies(dfu, columns=cat_cols, prefix=cat_cols).astype(np.float32)\n",
    "\n",
    "tdu = tdf.drop(columns=['Product_Holding_B1', 'Customer_ID'])\n",
    "tdu = pd.get_dummies(tdu, columns=cat_cols, prefix=cat_cols).astype(np.float32)"
   ]
  },
  {
   "cell_type": "code",
   "execution_count": 22,
   "id": "recreational-shadow",
   "metadata": {},
   "outputs": [
    {
     "name": "stdout",
     "output_type": "stream",
     "text": [
      "(37748, 22)\n",
      "(37748, 22)\n",
      "(20327, 22)\n"
     ]
    }
   ],
   "source": [
    "from ast import literal_eval as le\n",
    "def interact(ser):\n",
    "    nop = 22\n",
    "    nou = ser.shape[0]\n",
    "    int_arr = np.zeros((nou, nop), dtype=np.float32)\n",
    "    for i in range(nou):\n",
    "        lst = le(ser[i])\n",
    "        for prod in lst:\n",
    "            idx = int(prod[1:])\n",
    "            int_arr[i][idx] = 1\n",
    "    \n",
    "    print(int_arr.shape)\n",
    "    return int_arr\n",
    "\n",
    "\n",
    "dfi = interact(dft['Product_Holding_B1'])\n",
    "dfr = interact(dft['Product_Holding_B2'])\n",
    "tdi = interact(tdf['Product_Holding_B1'])"
   ]
  },
  {
   "cell_type": "code",
   "execution_count": 23,
   "id": "superior-clock",
   "metadata": {},
   "outputs": [],
   "source": [
    "# check for any issues through shapes\n",
    "\n",
    "assert dfi.shape[0]==dfu.shape[0]\n",
    "assert dfi.shape[1]==22\n",
    "assert dfr.shape[0]==dfu.shape[0]\n",
    "assert dfr.shape[1]==22\n",
    "assert tdi.shape[0]==tdf.shape[0]\n",
    "assert tdi.shape[1]==22\n",
    "assert dfu.shape[1]==10\n",
    "assert tdu.shape[1]==10"
   ]
  },
  {
   "cell_type": "markdown",
   "id": "original-spray",
   "metadata": {},
   "source": [
    "---\n",
    "### Preparing and training model"
   ]
  },
  {
   "cell_type": "code",
   "execution_count": 13,
   "id": "prerequisite-privilege",
   "metadata": {},
   "outputs": [],
   "source": [
    "from lightfm import LightFM\n",
    "from scipy import sparse"
   ]
  },
  {
   "cell_type": "code",
   "execution_count": 37,
   "id": "dangerous-rental",
   "metadata": {},
   "outputs": [
    {
     "name": "stderr",
     "output_type": "stream",
     "text": [
      "Epoch: 100%|██████████| 10/10 [00:02<00:00,  3.58it/s]\n"
     ]
    },
    {
     "data": {
      "text/plain": [
       "<lightfm.lightfm.LightFM at 0x7f186c2c3e20>"
      ]
     },
     "execution_count": 37,
     "metadata": {},
     "output_type": "execute_result"
    }
   ],
   "source": [
    "alpha = 1e-3\n",
    "lf_model = LightFM(loss='warp', user_alpha=1e-3)\n",
    "\n",
    "tot_int = np.concatenate((dfi,tdi), axis=0)\n",
    "tot_user = dfu.append(tdu)\n",
    "interact = sparse.coo_matrix(tot_int)\n",
    "user_feat = sparse.csr_matrix(tot_user.to_numpy(dtype=np.float32))\n",
    "lf_model.fit_partial(interact, user_features=user_feat, epochs=10, num_threads=2, verbose=True)"
   ]
  },
  {
   "cell_type": "markdown",
   "id": "medical-curtis",
   "metadata": {},
   "source": [
    "---\n",
    "### Testing and re-training model based on values of train set"
   ]
  },
  {
   "cell_type": "code",
   "execution_count": 26,
   "id": "white-honduras",
   "metadata": {},
   "outputs": [],
   "source": [
    "from lightfm.evaluation import precision_at_k as MAP"
   ]
  },
  {
   "cell_type": "code",
   "execution_count": 43,
   "id": "brief-surname",
   "metadata": {},
   "outputs": [
    {
     "name": "stdout",
     "output_type": "stream",
     "text": [
      "0.20912898\n"
     ]
    }
   ],
   "source": [
    "# testing\n",
    "\n",
    "test_interact =  sparse.csr_matrix(dfr)\n",
    "train_interact = sparse.csr_matrix(dfi)\n",
    "test_user_feat = sparse.csr_matrix(dfu.to_numpy(dtype=np.float32))\n",
    "\n",
    "test_prec = MAP(lf_model, test_interact,\n",
    "               train_interactions=train_interact, k=5,\n",
    "               user_features=test_user_feat, num_threads=2, check_intersections=False)\n",
    "\n",
    "print(test_prec.mean())"
   ]
  },
  {
   "cell_type": "code",
   "execution_count": 42,
   "id": "applicable-justice",
   "metadata": {},
   "outputs": [
    {
     "name": "stderr",
     "output_type": "stream",
     "text": [
      "Epoch: 100%|██████████| 10/10 [00:01<00:00,  6.07it/s]\n"
     ]
    },
    {
     "data": {
      "text/plain": [
       "<lightfm.lightfm.LightFM at 0x7f186c2c3e20>"
      ]
     },
     "execution_count": 42,
     "metadata": {},
     "output_type": "execute_result"
    }
   ],
   "source": [
    "# re-training\n",
    "\n",
    "ret_interact = sparse.coo_matrix(dfr)\n",
    "lf_model.fit_partial(ret_interact, user_features=test_user_feat, epochs=10, num_threads=2, verbose=True)"
   ]
  },
  {
   "cell_type": "markdown",
   "id": "supreme-lighting",
   "metadata": {},
   "source": [
    "---\n",
    "### Preparing submissions"
   ]
  },
  {
   "cell_type": "code",
   "execution_count": 60,
   "id": "christian-joseph",
   "metadata": {},
   "outputs": [],
   "source": [
    "pred_array = np.logical_not(tdi).astype(np.float32)    \n",
    "pred_interact = sparse.csr_matrix(pred_array)\n",
    "pred_train_interact = sparse.csr_matrix(tdi)\n",
    "pred_user_feat = sparse.csr_matrix(tdu.to_numpy(dtype=np.float32))\n",
    "pred = lf_model.predict_rank(pred_interact, user_features=pred_user_feat, num_threads=2)"
   ]
  },
  {
   "cell_type": "code",
   "execution_count": 68,
   "id": "square-atlantic",
   "metadata": {},
   "outputs": [],
   "source": [
    "ranks = pred.toarray().astype(np.int)"
   ]
  },
  {
   "cell_type": "code",
   "execution_count": 69,
   "id": "stuck-springer",
   "metadata": {},
   "outputs": [
    {
     "data": {
      "text/plain": [
       "array([[ 2, 10, 12,  8,  7, 11,  4,  5,  0,  9,  6, 15,  0,  0, 14, 13,\n",
       "        18, 20, 19, 21, 17, 16],\n",
       "       [ 3,  1, 14,  4,  8, 11,  6,  5,  0, 10,  9, 17,  0,  0, 13, 12,\n",
       "        21, 20, 15, 19, 16, 18],\n",
       "       [ 4, 13, 14, 11,  6, 10,  3,  7,  0,  8,  5, 12,  2,  9, 19, 16,\n",
       "         1, 15, 21, 18,  0, 17],\n",
       "       [ 3, 12, 14, 13,  7, 10,  4,  8,  1,  6,  5, 11,  2,  0, 19, 16,\n",
       "         0, 15, 21, 18, 20,  0],\n",
       "       [ 2,  3, 14,  5,  9, 11,  6,  7,  0,  8, 10, 17,  1,  0, 13, 12,\n",
       "        21, 20, 15, 19, 18, 16]])"
      ]
     },
     "execution_count": 69,
     "metadata": {},
     "output_type": "execute_result"
    }
   ],
   "source": [
    "ranks[:5]"
   ]
  },
  {
   "cell_type": "code",
   "execution_count": 57,
   "id": "fresh-experiment",
   "metadata": {},
   "outputs": [
    {
     "data": {
      "text/plain": [
       "array([[1., 1., 1., 1., 1., 1., 1., 1., 1., 1., 1., 1., 0., 0., 1., 1.,\n",
       "        1., 1., 1., 1., 1., 1.],\n",
       "       [1., 1., 1., 1., 1., 1., 1., 1., 1., 1., 1., 1., 0., 0., 1., 1.,\n",
       "        1., 1., 1., 1., 1., 1.],\n",
       "       [1., 1., 1., 1., 1., 1., 1., 1., 1., 1., 1., 1., 1., 1., 1., 1.,\n",
       "        1., 1., 1., 1., 0., 1.],\n",
       "       [1., 1., 1., 1., 1., 1., 1., 1., 1., 1., 1., 1., 1., 0., 1., 1.,\n",
       "        1., 1., 1., 1., 1., 0.],\n",
       "       [1., 1., 1., 1., 1., 1., 1., 1., 1., 1., 1., 1., 1., 0., 1., 1.,\n",
       "        1., 1., 1., 1., 1., 1.]], dtype=float32)"
      ]
     },
     "execution_count": 57,
     "metadata": {},
     "output_type": "execute_result"
    }
   ],
   "source": [
    "pred_array[:5]"
   ]
  },
  {
   "cell_type": "code",
   "execution_count": 59,
   "id": "anonymous-processor",
   "metadata": {},
   "outputs": [
    {
     "data": {
      "text/plain": [
       "matrix([[0., 0., 0., 0., 0., 0., 0., 0., 0., 0., 0., 0., 1., 1., 0., 0.,\n",
       "         0., 0., 0., 0., 0., 0.],\n",
       "        [0., 0., 0., 0., 0., 0., 0., 0., 0., 0., 0., 0., 1., 1., 0., 0.,\n",
       "         0., 0., 0., 0., 0., 0.],\n",
       "        [0., 0., 0., 0., 0., 0., 0., 0., 0., 0., 0., 0., 0., 0., 0., 0.,\n",
       "         0., 0., 0., 0., 1., 0.],\n",
       "        [0., 0., 0., 0., 0., 0., 0., 0., 0., 0., 0., 0., 0., 1., 0., 0.,\n",
       "         0., 0., 0., 0., 0., 1.],\n",
       "        [0., 0., 0., 0., 0., 0., 0., 0., 0., 0., 0., 0., 0., 1., 0., 0.,\n",
       "         0., 0., 0., 0., 0., 0.]], dtype=float32)"
      ]
     },
     "execution_count": 59,
     "metadata": {},
     "output_type": "execute_result"
    }
   ],
   "source": [
    "pred_train_interact.todense()[:5]"
   ]
  },
  {
   "cell_type": "code",
   "execution_count": null,
   "id": "optimum-requirement",
   "metadata": {},
   "outputs": [],
   "source": []
  }
 ],
 "metadata": {
  "kernelspec": {
   "display_name": "Python 3",
   "language": "python",
   "name": "python3"
  },
  "language_info": {
   "codemirror_mode": {
    "name": "ipython",
    "version": 3
   },
   "file_extension": ".py",
   "mimetype": "text/x-python",
   "name": "python",
   "nbconvert_exporter": "python",
   "pygments_lexer": "ipython3",
   "version": "3.8.6"
  }
 },
 "nbformat": 4,
 "nbformat_minor": 5
}
